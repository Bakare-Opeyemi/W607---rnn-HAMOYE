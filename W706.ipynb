{
 "cells": [
  {
   "cell_type": "code",
   "execution_count": 1,
   "id": "2c7fd39c-40d8-4c14-8c4b-ca130040f80e",
   "metadata": {},
   "outputs": [],
   "source": [
    "#important library\n",
    "import pandas as pd\n",
    "import glob"
   ]
  },
  {
   "cell_type": "code",
   "execution_count": 2,
   "id": "b37b00cf-dce5-46cc-8d9a-e257baec000b",
   "metadata": {},
   "outputs": [],
   "source": [
    "# loading all csv file names\n",
    "files = glob.glob(\"csvs_per_year/*.csv\")"
   ]
  },
  {
   "cell_type": "code",
   "execution_count": 3,
   "id": "437815c3-5e85-4488-b8ad-8a3f7bc2b104",
   "metadata": {},
   "outputs": [],
   "source": [
    "# reading csv files\n",
    "for index,file in enumerate(files):\n",
    "    files[index] = pd.read_csv(file)"
   ]
  },
  {
   "cell_type": "code",
   "execution_count": 4,
   "id": "5cd68c2a-7814-4261-bc5f-15a22e12f435",
   "metadata": {},
   "outputs": [],
   "source": [
    "# merging all csv files\n",
    "df = pd.concat(files)"
   ]
  },
  {
   "cell_type": "code",
   "execution_count": 5,
   "id": "0de0a81f-4c2d-4b8a-a50f-9cb57e4e15f4",
   "metadata": {
    "tags": []
   },
   "outputs": [
    {
     "name": "stdout",
     "output_type": "stream",
     "text": [
      "<class 'pandas.core.frame.DataFrame'>\n",
      "Int64Index: 3808224 entries, 0 to 69095\n",
      "Data columns (total 19 columns):\n",
      " #   Column   Dtype  \n",
      "---  ------   -----  \n",
      " 0   date     object \n",
      " 1   BEN      float64\n",
      " 2   CO       float64\n",
      " 3   EBE      float64\n",
      " 4   MXY      float64\n",
      " 5   NMHC     float64\n",
      " 6   NO_2     float64\n",
      " 7   NOx      float64\n",
      " 8   OXY      float64\n",
      " 9   O_3      float64\n",
      " 10  PM10     float64\n",
      " 11  PXY      float64\n",
      " 12  SO_2     float64\n",
      " 13  TCH      float64\n",
      " 14  TOL      float64\n",
      " 15  station  int64  \n",
      " 16  PM25     float64\n",
      " 17  NO       float64\n",
      " 18  CH4      float64\n",
      "dtypes: float64(17), int64(1), object(1)\n",
      "memory usage: 581.1+ MB\n"
     ]
    }
   ],
   "source": [
    "df.info()"
   ]
  },
  {
   "cell_type": "code",
   "execution_count": null,
   "id": "a0bdeb09-19e5-42ca-beb3-dfe0f307bbec",
   "metadata": {},
   "outputs": [],
   "source": []
  }
 ],
 "metadata": {
  "kernelspec": {
   "display_name": "Python 3",
   "language": "python",
   "name": "python3"
  },
  "language_info": {
   "codemirror_mode": {
    "name": "ipython",
    "version": 3
   },
   "file_extension": ".py",
   "mimetype": "text/x-python",
   "name": "python",
   "nbconvert_exporter": "python",
   "pygments_lexer": "ipython3",
   "version": "3.8.8"
  }
 },
 "nbformat": 4,
 "nbformat_minor": 5
}
